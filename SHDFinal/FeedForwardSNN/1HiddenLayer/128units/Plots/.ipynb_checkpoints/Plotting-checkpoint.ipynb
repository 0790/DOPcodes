{
 "cells": [
  {
   "cell_type": "code",
   "execution_count": 1,
   "id": "ecf8655c",
   "metadata": {},
   "outputs": [],
   "source": [
    "import numpy as np\n",
    "import matplotlib.pyplot as plt\n",
    "import pickle"
   ]
  },
  {
   "cell_type": "code",
   "execution_count": 2,
   "id": "8857dec8",
   "metadata": {},
   "outputs": [],
   "source": [
    "open_file = open(\"list128TEST1RUN1.pkl\",\"rb\")\n",
    "a = pickle.load(open_file)\n",
    "open_file = open(\"list128TEST1RUN2.pkl\",\"rb\")\n",
    "b = pickle.load(open_file)\n",
    "a.extend(b)\n",
    "open_file = open(\"list128TEST1RUN3.pkl\",\"rb\")\n",
    "b = pickle.load(open_file)\n",
    "a.extend(b)\n",
    "open_file = open(\"list128TEST1RUN4.pkl\",\"rb\")\n",
    "b = pickle.load(open_file)\n",
    "a.extend(b)\n",
    "open_file = open(\"list128TEST1RUN5.pkl\",\"rb\")\n",
    "b = pickle.load(open_file)\n",
    "a.extend(b)\n",
    "open_file = open(\"list128TEST1RUN6.pkl\",\"rb\")\n",
    "b = pickle.load(open_file)\n",
    "a.extend(b)\n"
   ]
  },
  {
   "cell_type": "code",
   "execution_count": 3,
   "id": "857803ed",
   "metadata": {},
   "outputs": [
    {
     "name": "stdout",
     "output_type": "stream",
     "text": [
      "1200\n"
     ]
    }
   ],
   "source": [
    "print(len(a))"
   ]
  },
  {
   "cell_type": "code",
   "execution_count": 4,
   "id": "9a2242a4",
   "metadata": {},
   "outputs": [],
   "source": [
    "x = range(0,1200)"
   ]
  },
  {
   "cell_type": "code",
   "execution_count": 6,
   "id": "440ec50f",
   "metadata": {},
   "outputs": [
    {
     "data": {
      "image/png": "[encoded data removed]",
      "text/plain": [
       "<Figure size 432x288 with 1 Axes>"
      ]
     },
     "metadata": {
      "needs_background": "light"
     },
     "output_type": "display_data"
    },
    {
     "data": {
      "text/plain": [
       "<Figure size 432x288 with 0 Axes>"
      ]
     },
     "metadata": {},
     "output_type": "display_data"
    }
   ],
   "source": [
    "plt.plot(x,a)\n",
    "plt.xlabel(\"Epochs\")\n",
    "plt.ylabel(\"Loss\")\n",
    "plt.title('FF1Layer128unitsTest1')\n",
    "plt.show()\n",
    "plt.savefig('FF1Layer128unitsTest1.png')"
   ]
  },
  {
   "cell_type": "code",
   "execution_count": null,
   "id": "9f402f64",
   "metadata": {},
   "outputs": [],
   "source": []
  }
 ],
 "metadata": {
  "kernelspec": {
   "display_name": "Python 3",
   "language": "python",
   "name": "python3"
  },
  "language_info": {
   "codemirror_mode": {
    "name": "ipython",
    "version": 3
   },
   "file_extension": ".py",
   "mimetype": "text/x-python",
   "name": "python",
   "nbconvert_exporter": "python",
   "pygments_lexer": "ipython3",
   "version": "3.8.8"
  }
 },
 "nbformat": 4,
 "nbformat_minor": 5
}
